{
 "cells": [
  {
   "cell_type": "code",
   "execution_count": 1,
   "metadata": {
    "vscode": {
     "languageId": "ocaml"
    }
   },
   "outputs": [
    {
     "data": {
      "text/plain": [
       "type fin_or_inf = Finite of int | Infinity\n"
      ]
     },
     "execution_count": 1,
     "metadata": {},
     "output_type": "execute_result"
    }
   ],
   "source": [
    "type fin_or_inf = Finite of int | Infinity"
   ]
  },
  {
   "cell_type": "code",
   "execution_count": 2,
   "id": "089288dc",
   "metadata": {
    "vscode": {
     "languageId": "ocaml"
    }
   },
   "outputs": [
    {
     "data": {
      "text/plain": [
       "val f : int -> fin_or_inf = <fun>\n"
      ]
     },
     "execution_count": 2,
     "metadata": {},
     "output_type": "execute_result"
    }
   ],
   "source": [
    "let f = function\n",
    "  | 0 -> Infinity\n",
    "  | 1 -> Finite 1\n",
    "  | n -> Finite (-n)"
   ]
  },
  {
   "cell_type": "code",
   "execution_count": 3,
   "id": "dc896672",
   "metadata": {
    "vscode": {
     "languageId": "ocaml"
    }
   },
   "outputs": [
    {
     "ename": "error",
     "evalue": "compile_error",
     "output_type": "error",
     "traceback": [
      "File \"[3]\", line 1, characters 0-1:\n1 | f Finite 2\n    ^\nError: This function has type int -> fin_or_inf\n       It is applied to too many arguments; maybe you forgot a `;'.\n"
     ]
    }
   ],
   "source": [
    "f Finite 2"
   ]
  },
  {
   "cell_type": "code",
   "execution_count": 4,
   "id": "9c1e573e",
   "metadata": {
    "vscode": {
     "languageId": "ocaml"
    }
   },
   "outputs": [
    {
     "ename": "error",
     "evalue": "compile_error",
     "output_type": "error",
     "traceback": [
      "File \"[4]\", line 1, characters 2-12:\n1 | f (Finite 2)\n      ^^^^^^^^^^\nError: This expression has type fin_or_inf\n       but an expression was expected of type int\n"
     ]
    }
   ],
   "source": [
    "f (Finite 2)"
   ]
  },
  {
   "cell_type": "code",
   "execution_count": 5,
   "id": "e57fad48",
   "metadata": {
    "vscode": {
     "languageId": "ocaml"
    }
   },
   "outputs": [
    {
     "data": {
      "text/plain": [
       "- : fin_or_inf = Finite (-2)\n"
      ]
     },
     "execution_count": 5,
     "metadata": {},
     "output_type": "execute_result"
    }
   ],
   "source": [
    "f 2"
   ]
  },
  {
   "cell_type": "code",
   "execution_count": 6,
   "id": "1d9420f1",
   "metadata": {
    "vscode": {
     "languageId": "ocaml"
    }
   },
   "outputs": [
    {
     "data": {
      "text/plain": [
       "val f : int -> [> `Finite of int | `Inifinity ] = <fun>\n"
      ]
     },
     "execution_count": 6,
     "metadata": {},
     "output_type": "execute_result"
    }
   ],
   "source": [
    " let f = function \n",
    "  | 0 -> `Inifinity\n",
    "  | 1 -> `Finite 1\n",
    "  | n -> `Finite (-n)"
   ]
  },
  {
   "cell_type": "code",
   "execution_count": 7,
   "id": "fb51771a",
   "metadata": {
    "vscode": {
     "languageId": "ocaml"
    }
   },
   "outputs": [],
   "source": [
    "(*Built-in Variants*)"
   ]
  },
  {
   "cell_type": "code",
   "execution_count": 8,
   "id": "2c4ab18e",
   "metadata": {
    "vscode": {
     "languageId": "ocaml"
    }
   },
   "outputs": [
    {
     "data": {
      "text/plain": [
       "type 'a list = [] | (::) of 'a * 'a list\n"
      ]
     },
     "execution_count": 8,
     "metadata": {},
     "output_type": "execute_result"
    }
   ],
   "source": [
    "type 'a list = [] | ( :: ) of 'a * 'a list"
   ]
  },
  {
   "cell_type": "code",
   "execution_count": 9,
   "id": "efe9e5f5",
   "metadata": {
    "vscode": {
     "languageId": "ocaml"
    }
   },
   "outputs": [
    {
     "data": {
      "text/plain": [
       "type 'a option = None | Some of 'a\n"
      ]
     },
     "execution_count": 9,
     "metadata": {},
     "output_type": "execute_result"
    }
   ],
   "source": [
    "type 'a option = None | Some of 'a"
   ]
  },
  {
   "cell_type": "code",
   "execution_count": 10,
   "id": "0fb8d9b6",
   "metadata": {
    "vscode": {
     "languageId": "ocaml"
    }
   },
   "outputs": [],
   "source": [
    "(* Exceptions *)"
   ]
  },
  {
   "cell_type": "code",
   "execution_count": 11,
   "id": "df786c45",
   "metadata": {
    "vscode": {
     "languageId": "ocaml"
    }
   },
   "outputs": [
    {
     "data": {
      "text/plain": [
       "exception A\n"
      ]
     },
     "execution_count": 11,
     "metadata": {},
     "output_type": "execute_result"
    }
   ],
   "source": [
    "exception A"
   ]
  },
  {
   "cell_type": "code",
   "execution_count": 12,
   "id": "4fe6587b",
   "metadata": {
    "vscode": {
     "languageId": "ocaml"
    }
   },
   "outputs": [
    {
     "data": {
      "text/plain": [
       "exception B\n"
      ]
     },
     "execution_count": 12,
     "metadata": {},
     "output_type": "execute_result"
    }
   ],
   "source": [
    "exception B"
   ]
  },
  {
   "cell_type": "code",
   "execution_count": 13,
   "id": "900f3545",
   "metadata": {
    "vscode": {
     "languageId": "ocaml"
    }
   },
   "outputs": [
    {
     "data": {
      "text/plain": [
       "exception Code of int\n"
      ]
     },
     "execution_count": 13,
     "metadata": {},
     "output_type": "execute_result"
    }
   ],
   "source": [
    "exception Code of int"
   ]
  },
  {
   "cell_type": "code",
   "execution_count": 14,
   "id": "e09db493",
   "metadata": {
    "vscode": {
     "languageId": "ocaml"
    }
   },
   "outputs": [
    {
     "data": {
      "text/plain": [
       "exception Details of string\n"
      ]
     },
     "execution_count": 14,
     "metadata": {},
     "output_type": "execute_result"
    }
   ],
   "source": [
    "exception Details of string"
   ]
  },
  {
   "cell_type": "code",
   "execution_count": 15,
   "id": "18961b81",
   "metadata": {
    "vscode": {
     "languageId": "ocaml"
    }
   },
   "outputs": [],
   "source": [
    "(*To create an exception value, use the same syntax you would for creating a variant value. Here, for example, is an exception value whose constructor is Failure, which carries a string:*)"
   ]
  },
  {
   "cell_type": "code",
   "execution_count": 16,
   "id": "bb6fede4",
   "metadata": {
    "vscode": {
     "languageId": "ocaml"
    }
   },
   "outputs": [
    {
     "data": {
      "text/plain": [
       "- : exn = Failure \"something went wrong\"\n"
      ]
     },
     "execution_count": 16,
     "metadata": {},
     "output_type": "execute_result"
    }
   ],
   "source": [
    "Failure \"something went wrong\""
   ]
  },
  {
   "cell_type": "code",
   "execution_count": 17,
   "id": "671c4b79",
   "metadata": {
    "vscode": {
     "languageId": "ocaml"
    }
   },
   "outputs": [
    {
     "ename": "error",
     "evalue": "compile_error",
     "output_type": "error",
     "traceback": [
      "File \"[17]\", line 1, characters 6-7:\n1 | raise E\n          ^\nError: This variant expression is expected to have type exn\n       There is no constructor E within type exn\n"
     ]
    }
   ],
   "source": [
    "raise E"
   ]
  },
  {
   "cell_type": "code",
   "execution_count": 18,
   "id": "3fec26f6",
   "metadata": {
    "vscode": {
     "languageId": "ocaml"
    }
   },
   "outputs": [
    {
     "ename": "error",
     "evalue": "compile_error",
     "output_type": "error",
     "traceback": [
      "File \"[18]\", line 1, characters 6-7:\n1 | raise e\n          ^\nError: Unbound value e\n"
     ]
    }
   ],
   "source": [
    "raise e"
   ]
  },
  {
   "cell_type": "code",
   "execution_count": 1,
   "id": "6a63cf73",
   "metadata": {
    "vscode": {
     "languageId": "ocaml"
    }
   },
   "outputs": [
    {
     "data": {
      "text/plain": [
       "- : string = \"hd\"\n"
      ]
     },
     "execution_count": 1,
     "metadata": {},
     "output_type": "execute_result"
    }
   ],
   "source": [
    "match List.hd [] with\n",
    "  | [] -> \"empty\"\n",
    "  | _ :: _ -> \"nonempty\"\n",
    "  | exception (Failure s) -> s"
   ]
  },
  {
   "cell_type": "code",
   "execution_count": 2,
   "id": "9fa5f075",
   "metadata": {
    "vscode": {
     "languageId": "ocaml"
    }
   },
   "outputs": [],
   "source": [
    "(*try \n",
    "   match e wtih\n",
    "   r1 -> e1\n",
    "   ....\n",
    "   rn -> en\n",
    "with\n",
    "  | q1 -> e1\n",
    "  | ...\n",
    "  | qm -> em*)"
   ]
  },
  {
   "cell_type": "code",
   "execution_count": 5,
   "id": "536c157c",
   "metadata": {
    "vscode": {
     "languageId": "ocaml"
    }
   },
   "outputs": [
    {
     "data": {
      "text/plain": [
       "type 'a tree = Leaf | Node of 'a * 'a tree * 'a tree\n"
      ]
     },
     "execution_count": 5,
     "metadata": {},
     "output_type": "execute_result"
    }
   ],
   "source": [
    "type 'a tree = \n",
    "  | Leaf\n",
    "  | Node of 'a * 'a tree * 'a tree"
   ]
  },
  {
   "cell_type": "code",
   "execution_count": 6,
   "id": "994a28a1",
   "metadata": {
    "vscode": {
     "languageId": "ocaml"
    }
   },
   "outputs": [
    {
     "ename": "error",
     "evalue": "compile_error",
     "output_type": "error",
     "traceback": [
      "File \"[6]\", line 1, characters 4-5:\n1 | let = t \n        ^\nError: Syntax error\n"
     ]
    }
   ],
   "source": [
    "let = t "
   ]
  },
  {
   "cell_type": "code",
   "execution_count": 7,
   "id": "b6644126",
   "metadata": {
    "vscode": {
     "languageId": "ocaml"
    }
   },
   "outputs": [
    {
     "data": {
      "text/plain": [
       "val t : int tree =\n",
       "  Node (4, Node (2, Node (1, Leaf, Leaf), Node (3, Leaf, Leaf)),\n",
       "   Node (5, Node (6, Leaf, Leaf), Node (7, Leaf, Leaf)))\n"
      ]
     },
     "execution_count": 7,
     "metadata": {},
     "output_type": "execute_result"
    }
   ],
   "source": [
    "(* the code below constructs this tree:\n",
    "         4\n",
    "       /   \\\n",
    "      2     5\n",
    "     / \\   / \\\n",
    "    1   3 6   7\n",
    "*)\n",
    "let t =\n",
    "  Node(4,\n",
    "    Node(2,\n",
    "      Node(1, Leaf, Leaf),\n",
    "      Node(3, Leaf, Leaf)\n",
    "    ),\n",
    "    Node(5,\n",
    "      Node(6, Leaf, Leaf),\n",
    "      Node(7, Leaf, Leaf)\n",
    "    )\n",
    "  )"
   ]
  },
  {
   "cell_type": "code",
   "execution_count": 8,
   "id": "e929ecf3",
   "metadata": {
    "vscode": {
     "languageId": "ocaml"
    }
   },
   "outputs": [
    {
     "ename": "error",
     "evalue": "compile_error",
     "output_type": "error",
     "traceback": [
      "File \"[8]\", line 2, characters 0-0:\nError: Syntax error\n"
     ]
    }
   ],
   "source": [
    "let rec size = function"
   ]
  },
  {
   "cell_type": "code",
   "execution_count": 9,
   "id": "950a10f4",
   "metadata": {
    "vscode": {
     "languageId": "ocaml"
    }
   },
   "outputs": [
    {
     "data": {
      "text/plain": [
       "val size : 'a tree -> int = <fun>\n"
      ]
     },
     "execution_count": 9,
     "metadata": {},
     "output_type": "execute_result"
    }
   ],
   "source": [
    "let rec size = function\n",
    "  | Leaf -> 0\n",
    "  | Node (_, l, r) -> 1 + size l + size r"
   ]
  },
  {
   "cell_type": "code",
   "execution_count": 11,
   "id": "6ef0fdf8",
   "metadata": {
    "vscode": {
     "languageId": "ocaml"
    }
   },
   "outputs": [
    {
     "data": {
      "text/plain": [
       "type 'a tree = Leaf | Node of 'a node\n",
       "and 'a node = { value : 'a; left : 'a tree; right : 'a tree; }\n"
      ]
     },
     "execution_count": 11,
     "metadata": {},
     "output_type": "execute_result"
    }
   ],
   "source": [
    "type 'a tree =\n",
    "  | Leaf\n",
    "  | Node of 'a node\n",
    "and 'a node = {\n",
    "  value : 'a;\n",
    "  left : 'a tree;\n",
    "  right : 'a tree;\n",
    "}"
   ]
  },
  {
   "cell_type": "code",
   "execution_count": 12,
   "id": "44e80108",
   "metadata": {
    "vscode": {
     "languageId": "ocaml"
    }
   },
   "outputs": [
    {
     "data": {
      "text/plain": [
       "val mem : 'a -> 'a tree -> bool = <fun>\n"
      ]
     },
     "execution_count": 12,
     "metadata": {},
     "output_type": "execute_result"
    }
   ],
   "source": [
    "let rec mem x = function\n",
    "  | Leaf -> false\n",
    "  | Node { value; left; right } ->\n",
    "      x = value || mem x left || mem x right"
   ]
  },
  {
   "cell_type": "code",
   "execution_count": 13,
   "id": "a9de4514",
   "metadata": {
    "vscode": {
     "languageId": "ocaml"
    }
   },
   "outputs": [
    {
     "data": {
      "text/plain": [
       "val preorder : 'a tree -> 'a list = <fun>\n"
      ]
     },
     "execution_count": 13,
     "metadata": {},
     "output_type": "execute_result"
    }
   ],
   "source": [
    "let rec preorder = function\n",
    "  | Leaf -> []\n",
    "  | Node {value; left; right} -> [value] @ preorder left @ preorder right"
   ]
  },
  {
   "cell_type": "code",
   "execution_count": 14,
   "id": "0782ef8e",
   "metadata": {
    "vscode": {
     "languageId": "ocaml"
    }
   },
   "outputs": [
    {
     "data": {
      "text/plain": [
       "val t : int tree =\n",
       "  Node\n",
       "   {value = 2; left = Node {value = 1; left = Leaf; right = Leaf};\n",
       "    right = Node {value = 3; left = Leaf; right = Leaf}}\n"
      ]
     },
     "execution_count": 14,
     "metadata": {},
     "output_type": "execute_result"
    }
   ],
   "source": [
    "let t =\n",
    "  Node {\n",
    "    value = 2;\n",
    "    left = Node {value = 1; left = Leaf; right = Leaf};\n",
    "    right = Node {value = 3; left = Leaf; right = Leaf}\n",
    "  }"
   ]
  },
  {
   "cell_type": "code",
   "execution_count": 16,
   "id": "9ee5d948",
   "metadata": {
    "vscode": {
     "languageId": "ocaml"
    }
   },
   "outputs": [
    {
     "name": "stderr",
     "output_type": "stream",
     "text": [
      "File \"[16]\", line 2, characters 18-20:\n",
      "2 |   let rec pre_acc açc = function\n",
      "                      ^^\n",
      "Alert deprecated: ISO-Latin1 characters in identifiers\n"
     ]
    },
    {
     "ename": "error",
     "evalue": "compile_error",
     "output_type": "error",
     "traceback": [
      "File \"[16]\", line 2, characters 20-21:\n2 |   let rec pre_acc açc = function\n                        ^\nError: Illegal character (\\167)\n"
     ]
    }
   ],
   "source": [
    "let preorder_lin t = \n",
    "  let rec pre_acc açc = function\n",
    "  | Leaf -> acc\n",
    "  | Node {value; left; right} ->\n",
    "      value :: pre_acc (pre_acc acc right) left\n",
    "  in pre_acc [] t"
   ]
  },
  {
   "cell_type": "markdown",
   "id": "3aa068c8",
   "metadata": {},
   "source": [
    "type nat = Zero | Succ of nat"
   ]
  },
  {
   "cell_type": "code",
   "execution_count": 19,
   "id": "4402d02e",
   "metadata": {
    "vscode": {
     "languageId": "ocaml"
    }
   },
   "outputs": [
    {
     "data": {
      "text/plain": [
       "type nat = Zero | Succ of nat\n"
      ]
     },
     "execution_count": 19,
     "metadata": {},
     "output_type": "execute_result"
    }
   ],
   "source": [
    "type nat = Zero | Succ of nat"
   ]
  },
  {
   "cell_type": "markdown",
   "id": "e9817aba",
   "metadata": {},
   "source": []
  },
  {
   "cell_type": "code",
   "execution_count": 20,
   "id": "a721cc90",
   "metadata": {
    "vscode": {
     "languageId": "ocaml"
    }
   },
   "outputs": [
    {
     "data": {
      "text/plain": [
       "val zero : nat = Zero\n"
      ]
     },
     "execution_count": 20,
     "metadata": {},
     "output_type": "execute_result"
    },
    {
     "data": {
      "text/plain": [
       "val one : nat = Succ Zero\n"
      ]
     },
     "execution_count": 20,
     "metadata": {},
     "output_type": "execute_result"
    },
    {
     "data": {
      "text/plain": [
       "val two : nat = Succ (Succ Zero)\n"
      ]
     },
     "execution_count": 20,
     "metadata": {},
     "output_type": "execute_result"
    },
    {
     "data": {
      "text/plain": [
       "val three : nat = Succ (Succ (Succ Zero))\n"
      ]
     },
     "execution_count": 20,
     "metadata": {},
     "output_type": "execute_result"
    },
    {
     "data": {
      "text/plain": [
       "val four : nat = Succ (Succ (Succ (Succ Zero)))\n"
      ]
     },
     "execution_count": 20,
     "metadata": {},
     "output_type": "execute_result"
    }
   ],
   "source": [
    "let zero = Zero\n",
    "let one = Succ zero\n",
    "let two = Succ one\n",
    "let three = Succ two\n",
    "let four = Succ three"
   ]
  },
  {
   "cell_type": "code",
   "execution_count": 21,
   "id": "39b5c7fb",
   "metadata": {
    "vscode": {
     "languageId": "ocaml"
    }
   },
   "outputs": [
    {
     "data": {
      "text/plain": [
       "val iszero : nat -> bool = <fun>\n"
      ]
     },
     "execution_count": 21,
     "metadata": {},
     "output_type": "execute_result"
    }
   ],
   "source": [
    "let iszero = function\n",
    "  | Zero -> true\n",
    "  | Succ _ -> false"
   ]
  },
  {
   "cell_type": "code",
   "execution_count": 22,
   "id": "62a33fad",
   "metadata": {
    "vscode": {
     "languageId": "ocaml"
    }
   },
   "outputs": [
    {
     "data": {
      "text/plain": [
       "val add : nat -> nat -> nat = <fun>\n"
      ]
     },
     "execution_count": 22,
     "metadata": {},
     "output_type": "execute_result"
    }
   ],
   "source": [
    "let rec add n1 n2 = \n",
    "  match n1 with\n",
    "  | Zero -> n2\n",
    "  | Succ pred_n -> add pred_n (Succ n2)"
   ]
  },
  {
   "cell_type": "code",
   "execution_count": 23,
   "id": "2da77dbd",
   "metadata": {
    "vscode": {
     "languageId": "ocaml"
    }
   },
   "outputs": [
    {
     "data": {
      "text/plain": [
       "val int_of_nat : nat -> int = <fun>\n"
      ]
     },
     "execution_count": 23,
     "metadata": {},
     "output_type": "execute_result"
    }
   ],
   "source": [
    "let rec int_of_nat = function\n",
    "  | Zero -> 0\n",
    "  | Succ m -> 1 + int_of_nat m"
   ]
  },
  {
   "cell_type": "code",
   "execution_count": null,
   "id": "1ac6a531",
   "metadata": {
    "vscode": {
     "languageId": "ocaml"
    }
   },
   "outputs": [],
   "source": []
  }
 ],
 "metadata": {
  "kernelspec": {
   "display_name": "OCaml cs3110-2023sp",
   "language": "OCaml",
   "name": "ocaml-jupyter"
  },
  "language_info": {
   "codemirror_mode": "text/x-ocaml",
   "file_extension": ".ml",
   "mimetype": "text/x-ocaml",
   "name": "OCaml",
   "nbconverter_exporter": null,
   "pygments_lexer": "OCaml",
   "version": "4.14.1"
  }
 },
 "nbformat": 4,
 "nbformat_minor": 5
}
